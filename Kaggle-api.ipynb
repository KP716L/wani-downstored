{
 "cells": [
  {
   "cell_type": "code",
   "execution_count": 1,
   "metadata": {},
   "outputs": [],
   "source": [
    "# 캐글 공식 깃허브에 api가 올라왔다. 해당 api는 캐글 사이트에 접속해서 일일이 데이터셋을 다운받지 않고 노트북이나 터미널 환경에서 데이터 셋 파일을 찾거나 다운로드 할 수 있다.\n",
    "# 설치하기\n",
    "!pip install kaggle"
   ]
  },
  {
   "cell_type": "code",
   "execution_count": 2,
   "metadata": {},
   "outputs": [
    {
     "name": "stdout",
     "output_type": "stream",
     "text": [
      "usage: kaggle config [-h] {view,set,unset} ...\r\n",
      "kaggle config: error: argument command: invalid choice: 'path' (choose from 'view', 'set', 'unset')\r\n"
     ]
    }
   ],
   "source": [
    "# API Credentials : 캐글 사이트에 접속하여 자신의 프로필 페이지에서 해당 프로필하단의 Create API Token을 클릭하면 kaggle.json 이라는 토큰파일이 다운로드 된다.\n",
    "# 해당 파일을 맥 사용자는 ~/.kaggle/kaggle.json 위치에 올려두고 윈도우 사용자는 C:/users/<windows-username>/.kaggle/kaggle.json 위치에 옮겨준다.\n",
    "# 캐글 API 설정파일 위치 보기\n",
    "# .kaggle 이라는 폴더를 ~/ 위치에 만들고 캐글 사이트에서 다운로드 받은파일을 옮겨준다.\n",
    "!kaggle config path"
   ]
  },
  {
   "cell_type": "code",
   "execution_count": 3,
   "metadata": {},
   "outputs": [
    {
     "name": "stdout",
     "output_type": "stream",
     "text": [
      "usage: kaggle [-h] [-v] {competitions,c,datasets,d,kernels,k,config} ...\r\n",
      "kaggle: error: argument command: invalid choice: 'competition' (choose from 'competitions', 'c', 'datasets', 'd', 'kernels', 'k', 'config')\r\n"
     ]
    }
   ],
   "source": [
    "# Competition : kaggle competitions {list, files, downloads, submit, submissions}, kaggle datasets {list, files, downloads}, kaggle config {path}\n",
    "# 캐글 경진대회 API의 도움말 보기\n",
    "!kaggle competition list -h"
   ]
  },
  {
   "cell_type": "code",
   "execution_count": null,
   "metadata": {},
   "outputs": [],
   "source": [
    "# health에 해당되는 경진대회 찾아보기\n",
    "!kaggle competittions list -s health"
   ]
  },
  {
   "cell_type": "code",
   "execution_count": null,
   "metadata": {},
   "outputs": [],
   "source": [
    "# nlp와 관련된 경진대회 찾아보기\n",
    "!kaggle competittions list -s nlp"
   ]
  },
  {
   "cell_type": "code",
   "execution_count": null,
   "metadata": {},
   "outputs": [],
   "source": [
    "# 타이타닉 경진대회의 데이터셋을 보기\n",
    "!kaggle competittions files -c titanic"
   ]
  },
  {
   "cell_type": "code",
   "execution_count": null,
   "metadata": {},
   "outputs": [],
   "source": [
    "# word2vec-nlp-tutorial의 데이터셋을 보기\n",
    "!kaggle competittions files -c word2vec-nlp-tutorial"
   ]
  },
  {
   "cell_type": "code",
   "execution_count": null,
   "metadata": {},
   "outputs": [],
   "source": [
    "# 타이타닉 경진대회의 파일을 다운로드 받기\n",
    "!kaggle competittions download -c titanic"
   ]
  },
  {
   "cell_type": "code",
   "execution_count": null,
   "metadata": {},
   "outputs": [],
   "source": [
    "# MACOS를 사용한다면 기본 다운로드 경로는 API Credentials을 복사해 놓은 ~/.kaggle 폴더이다.\n",
    "# 윈도우에서는 C:/Users/<windows-username>/.kaggle 에 다운로드 한다.\n",
    "# 해당 경로에 /conpetitions/ 이라는 폴더가 생성되었다.\n",
    "%ls ~/.kaggle"
   ]
  },
  {
   "cell_type": "code",
   "execution_count": null,
   "metadata": {},
   "outputs": [],
   "source": [
    "# 다운로드가 잘 되었는지 확인해본다.\n",
    "# ls 명령어는 특정 경로에 어떤 파일이 있는지 확인해 보는 명령어이다.\n",
    "# %dir 윈도우 사용자라면 dir로 확인해 본다.\n",
    "%ls ~/.kaggle/competitions/titanic/"
   ]
  },
  {
   "cell_type": "code",
   "execution_count": null,
   "metadata": {},
   "outputs": [],
   "source": [
    "# 특정 폴더에 다운로드 받고자 한다면 다운로드 받을 경로를 지정해 준다.\n",
    "!kaggle competitions download -c titanic -p ./"
   ]
  },
  {
   "cell_type": "code",
   "execution_count": null,
   "metadata": {},
   "outputs": [],
   "source": [
    "# 제대로 다운로드가 되었는지 해당 경로를 찾아본다. \n",
    "%ls ./titanic"
   ]
  },
  {
   "cell_type": "code",
   "execution_count": null,
   "metadata": {},
   "outputs": [],
   "source": [
    "# 해당 경진대회 파일이 모두 받아졌는지 확인해본다.\n",
    "!kaggle competitions files -c titanic"
   ]
  },
  {
   "cell_type": "code",
   "execution_count": null,
   "metadata": {},
   "outputs": [],
   "source": [
    "# submission : kag"
   ]
  },
  {
   "cell_type": "code",
   "execution_count": null,
   "metadata": {},
   "outputs": [],
   "source": [
    "# 경진대회 약관에 동의했다면 api 서브미션이 가능하다.\n",
    "!kaggle competitions submit -c word2vec-nlp-tutorial -f ./word2vec-nlp-tutorial/data/tutorial_4_tfidf_xgboost.csv -m 'API submit msg'"
   ]
  },
  {
   "cell_type": "code",
   "execution_count": null,
   "metadata": {},
   "outputs": [],
   "source": [
    "!kaggle competitions submissions -c word2vec-nlp-tutorial\n",
    "# 캐글 경진대회 해당 페이지에 가면 점수를 확인할 수 있다."
   ]
  },
  {
   "cell_type": "code",
   "execution_count": null,
   "metadata": {},
   "outputs": [],
   "source": [
    "# 데이터셋 찾아보기 "
   ]
  },
  {
   "cell_type": "code",
   "execution_count": null,
   "metadata": {},
   "outputs": [],
   "source": [
    "# 설문조사와 관련된 데이터셋 찾아보기\n",
    "!kaggle datasets list -s survey"
   ]
  },
  {
   "cell_type": "code",
   "execution_count": null,
   "metadata": {},
   "outputs": [],
   "source": [
    "!kaggle datasets files -d stackoverflow/so-survey-2017"
   ]
  },
  {
   "cell_type": "code",
   "execution_count": null,
   "metadata": {},
   "outputs": [],
   "source": [
    "!kaggle datasets files -d zillow/zecon"
   ]
  }
 ],
 "metadata": {
  "kernelspec": {
   "display_name": "Python 3",
   "language": "python",
   "name": "python3"
  },
  "language_info": {
   "codemirror_mode": {
    "name": "ipython",
    "version": 3
   },
   "file_extension": ".py",
   "mimetype": "text/x-python",
   "name": "python",
   "nbconvert_exporter": "python",
   "pygments_lexer": "ipython3",
   "version": "3.6.5rc1"
  },
  "toc": {
   "base_numbering": 1,
   "nav_menu": {},
   "number_sections": true,
   "sideBar": true,
   "skip_h1_title": false,
   "title_cell": "Table of Contents",
   "title_sidebar": "Contents",
   "toc_cell": false,
   "toc_position": {},
   "toc_section_display": true,
   "toc_window_display": false
  },
  "varInspector": {
   "cols": {
    "lenName": 16,
    "lenType": 16,
    "lenVar": 40
   },
   "kernels_config": {
    "python": {
     "delete_cmd_postfix": "",
     "delete_cmd_prefix": "del ",
     "library": "var_list.py",
     "varRefreshCmd": "print(var_dic_list())"
    },
    "r": {
     "delete_cmd_postfix": ") ",
     "delete_cmd_prefix": "rm(",
     "library": "var_list.r",
     "varRefreshCmd": "cat(var_dic_list()) "
    }
   },
   "types_to_exclude": [
    "module",
    "function",
    "builtin_function_or_method",
    "instance",
    "_Feature"
   ],
   "window_display": false
  }
 },
 "nbformat": 4,
 "nbformat_minor": 2
}
